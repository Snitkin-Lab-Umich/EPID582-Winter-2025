{
 "cells": [
  {
   "cell_type": "markdown",
   "id": "19374755-aaca-44d1-975c-e9afafbb4fce",
   "metadata": {},
   "source": [
    "# Assignment 3\n",
    "\n",
    "This notebook goes through the process of running Snippy and Gubbins on Assignment 2 dataset - ```/scratch/epid582w22_class_root/epid582w22_class/shared_data/data/assignment_2/crkp_fastq/```\n",
    "\n",
    "We will create a new directory to preprocess assignment3 dataset under the ```shared_data/data/assignment_3```"
   ]
  },
  {
   "cell_type": "code",
   "execution_count": 1,
   "id": "f2c6c618-3709-40d7-aa5f-8593ed0bad32",
   "metadata": {},
   "outputs": [],
   "source": [
    "cd /scratch/epid582w22_class_root/epid582w22_class/shared_data/data/"
   ]
  },
  {
   "cell_type": "code",
   "execution_count": null,
   "id": "e6430346-82c0-418d-8999-a2b6b5000046",
   "metadata": {},
   "outputs": [],
   "source": [
    "mkdir assignment_3"
   ]
  },
  {
   "cell_type": "code",
   "execution_count": 2,
   "id": "dcdffb72-b1e1-4786-a889-1e9b02531022",
   "metadata": {},
   "outputs": [],
   "source": [
    "cd assignment_3"
   ]
  },
  {
   "cell_type": "markdown",
   "id": "cb296c67-a4da-4742-a404-6fba22e32a6c",
   "metadata": {},
   "source": [
    "#### 1. Prepare multiple sample list for Snippy"
   ]
  },
  {
   "cell_type": "markdown",
   "id": "b5067bae-dfa6-4d60-bd39-4812ddc6862a",
   "metadata": {},
   "source": [
    "In class9, we ran Snippy on a single isolate PCMP_H326 and running Snippy individually on an entire dataset could become cumbersome and would require applying a for loop. But, Snippy package comes with a helper script called ```snippy-multi``` that takes a tab seperated list of Sample names and path to its fastq sequences and generates a bash script that we can then submit as a job.\n",
    "\n",
    "To prepare an input list of samples, run this command:"
   ]
  },
  {
   "cell_type": "code",
   "execution_count": 3,
   "id": "f708f386-82bd-4a4e-924d-c51374e2cdf5",
   "metadata": {},
   "outputs": [],
   "source": [
    "for i in /scratch/epid582w22_class_root/epid582w22_class/shared_data/data/assignment_2/crkp_fastq/*_1.fastq; \n",
    "do isolate=`echo $i | cut -d'/' -f9 | sed 's/_1.fastq//g'`; \n",
    "r2=`echo $i | sed 's/_1.fastq/_2.fastq/g'`; \n",
    "printf \"$isolate\\t$i\\t$r2\\n\"; \n",
    "done > input.tab"
   ]
  },
  {
   "cell_type": "markdown",
   "id": "64182922-bf21-4c81-a9e1-785e5b54b08e",
   "metadata": {},
   "source": [
    "***Lets check the input.tab file we just created:***"
   ]
  },
  {
   "cell_type": "code",
   "execution_count": 6,
   "id": "fd72f88a-0560-4b62-9c63-bdc1ab80cba1",
   "metadata": {},
   "outputs": [
    {
     "name": "stdout",
     "output_type": "stream",
     "text": [
      "SRR6204326\t/scratch/epid582w22_class_root/epid582w22_class/shared_data/data/assignment_2/crkp_fastq/SRR6204326_1.fastq\t/scratch/epid582w22_class_root/epid582w22_class/shared_data/data/assignment_2/crkp_fastq/SRR6204326_2.fastq\n",
      "SRR6204327\t/scratch/epid582w22_class_root/epid582w22_class/shared_data/data/assignment_2/crkp_fastq/SRR6204327_1.fastq\t/scratch/epid582w22_class_root/epid582w22_class/shared_data/data/assignment_2/crkp_fastq/SRR6204327_2.fastq\n",
      "SRR6204328\t/scratch/epid582w22_class_root/epid582w22_class/shared_data/data/assignment_2/crkp_fastq/SRR6204328_1.fastq\t/scratch/epid582w22_class_root/epid582w22_class/shared_data/data/assignment_2/crkp_fastq/SRR6204328_2.fastq\n",
      "SRR6204329\t/scratch/epid582w22_class_root/epid582w22_class/shared_data/data/assignment_2/crkp_fastq/SRR6204329_1.fastq\t/scratch/epid582w22_class_root/epid582w22_class/shared_data/data/assignment_2/crkp_fastq/SRR6204329_2.fastq\n",
      "SRR6204330\t/scratch/epid582w22_class_root/epid582w22_class/shared_data/data/assignment_2/crkp_fastq/SRR6204330_1.fastq\t/scratch/epid582w22_class_root/epid582w22_class/shared_data/data/assignment_2/crkp_fastq/SRR6204330_2.fastq\n",
      "SRR6204331\t/scratch/epid582w22_class_root/epid582w22_class/shared_data/data/assignment_2/crkp_fastq/SRR6204331_1.fastq\t/scratch/epid582w22_class_root/epid582w22_class/shared_data/data/assignment_2/crkp_fastq/SRR6204331_2.fastq\n",
      "SRR6204332\t/scratch/epid582w22_class_root/epid582w22_class/shared_data/data/assignment_2/crkp_fastq/SRR6204332_1.fastq\t/scratch/epid582w22_class_root/epid582w22_class/shared_data/data/assignment_2/crkp_fastq/SRR6204332_2.fastq\n",
      "SRR6204333\t/scratch/epid582w22_class_root/epid582w22_class/shared_data/data/assignment_2/crkp_fastq/SRR6204333_1.fastq\t/scratch/epid582w22_class_root/epid582w22_class/shared_data/data/assignment_2/crkp_fastq/SRR6204333_2.fastq\n",
      "SRR6204334\t/scratch/epid582w22_class_root/epid582w22_class/shared_data/data/assignment_2/crkp_fastq/SRR6204334_1.fastq\t/scratch/epid582w22_class_root/epid582w22_class/shared_data/data/assignment_2/crkp_fastq/SRR6204334_2.fastq\n",
      "SRR6204335\t/scratch/epid582w22_class_root/epid582w22_class/shared_data/data/assignment_2/crkp_fastq/SRR6204335_1.fastq\t/scratch/epid582w22_class_root/epid582w22_class/shared_data/data/assignment_2/crkp_fastq/SRR6204335_2.fastq\n"
     ]
    }
   ],
   "source": [
    "head input.tab"
   ]
  },
  {
   "cell_type": "markdown",
   "id": "aebc74fd-5946-422a-a32e-06afa4b0bba8",
   "metadata": {},
   "source": [
    "***The first column contains the samplenames that Snippy will use to create output folders for each samples and the second and third column is the pat to its paired end reads.***"
   ]
  },
  {
   "cell_type": "markdown",
   "id": "e7f3e041-006c-4ae2-a145-de0805a8393c",
   "metadata": {},
   "source": [
    "#### 2. Run snippy-multi on input sample list"
   ]
  },
  {
   "cell_type": "code",
   "execution_count": 11,
   "id": "9421547e-b30c-4bd0-83cd-98dc71aa3979",
   "metadata": {},
   "outputs": [
    {
     "name": "stdout",
     "output_type": "stream",
     "text": [
      "(snippy) "
     ]
    },
    {
     "ename": "",
     "evalue": "1",
     "output_type": "error",
     "traceback": []
    }
   ],
   "source": [
    "conda activate class9snippy"
   ]
  },
  {
   "cell_type": "code",
   "execution_count": 12,
   "id": "304f9108-b338-49ef-8cdb-49cc5cbaa44b",
   "metadata": {},
   "outputs": [
    {
     "name": "stdout",
     "output_type": "stream",
     "text": [
      "Reading: input.tab\n",
      "Generating output commands for 69 isolates\n",
      "Done.\n",
      "(snippy) "
     ]
    },
    {
     "ename": "",
     "evalue": "1",
     "output_type": "error",
     "traceback": []
    }
   ],
   "source": [
    "snippy-multi input.tab --ref KPNIH1_ref.gbk --cpu 4 --force --report > runme.sh"
   ]
  },
  {
   "cell_type": "code",
   "execution_count": 14,
   "id": "ba58b1d8-82aa-45d8-a8ce-56d66d00486d",
   "metadata": {},
   "outputs": [
    {
     "name": "stdout",
     "output_type": "stream",
     "text": [
      "snippy --outdir 'SRR6204326' --R1 '/gpfs/accounts/epid582w22_class_root/epid582w22_class/shared_data/data/assignment_2/crkp_fastq/SRR6204326_1.fastq' --R2 '/gpfs/accounts/epid582w22_class_root/epid582w22_class/shared_data/data/assignment_2/crkp_fastq/SRR6204326_2.fastq' --ref KPNIH1_ref.gbk --cpu 4 --force --report\n",
      "snippy --outdir 'SRR6204327' --R1 '/gpfs/accounts/epid582w22_class_root/epid582w22_class/shared_data/data/assignment_2/crkp_fastq/SRR6204327_1.fastq' --R2 '/gpfs/accounts/epid582w22_class_root/epid582w22_class/shared_data/data/assignment_2/crkp_fastq/SRR6204327_2.fastq' --ref KPNIH1_ref.gbk --cpu 4 --force --report\n",
      "snippy --outdir 'SRR6204328' --R1 '/gpfs/accounts/epid582w22_class_root/epid582w22_class/shared_data/data/assignment_2/crkp_fastq/SRR6204328_1.fastq' --R2 '/gpfs/accounts/epid582w22_class_root/epid582w22_class/shared_data/data/assignment_2/crkp_fastq/SRR6204328_2.fastq' --ref KPNIH1_ref.gbk --cpu 4 --force --report\n",
      "snippy --outdir 'SRR6204329' --R1 '/gpfs/accounts/epid582w22_class_root/epid582w22_class/shared_data/data/assignment_2/crkp_fastq/SRR6204329_1.fastq' --R2 '/gpfs/accounts/epid582w22_class_root/epid582w22_class/shared_data/data/assignment_2/crkp_fastq/SRR6204329_2.fastq' --ref KPNIH1_ref.gbk --cpu 4 --force --report\n",
      "snippy --outdir 'SRR6204330' --R1 '/gpfs/accounts/epid582w22_class_root/epid582w22_class/shared_data/data/assignment_2/crkp_fastq/SRR6204330_1.fastq' --R2 '/gpfs/accounts/epid582w22_class_root/epid582w22_class/shared_data/data/assignment_2/crkp_fastq/SRR6204330_2.fastq' --ref KPNIH1_ref.gbk --cpu 4 --force --report\n",
      "(snippy) "
     ]
    },
    {
     "ename": "",
     "evalue": "1",
     "output_type": "error",
     "traceback": []
    }
   ],
   "source": [
    "head -n5 runme.sh"
   ]
  },
  {
   "cell_type": "markdown",
   "id": "80a09b4b-43fb-4645-86b9-b550e38ebfd6",
   "metadata": {},
   "source": [
    "***snippy-multi generated snippy commands for each of the samples and saved it in runme.sh script. If you look at the end of runme.sh, you would find a snippy-core command which will aggregate the variant call results and generate a core alignment which will be our input for Gubbins***"
   ]
  },
  {
   "cell_type": "code",
   "execution_count": 15,
   "id": "be424d26-7fff-494c-8ee8-ad30446210ac",
   "metadata": {},
   "outputs": [
    {
     "name": "stdout",
     "output_type": "stream",
     "text": [
      "snippy-core --ref 'SRR6204326/ref.fa' SRR6204326 SRR6204327 SRR6204328 SRR6204329 SRR6204330 SRR6204331 SRR6204332 SRR6204333 SRR6204334 SRR6204335 SRR6204336 SRR6204337 SRR6204338 SRR6204339 SRR6204340 SRR6204341 SRR6204342 SRR6204343 SRR6204344 SRR6204345 SRR6204346 SRR6204347 SRR6204348 SRR6204349 SRR6204350 SRR6204351 SRR6204352 SRR6204353 SRR6204354 SRR6204355 SRR6204356 SRR6204357 SRR6204358 SRR6204359 SRR6204360 SRR6204361 SRR6204362 SRR6204363 SRR6204364 SRR6204365 SRR6204366 SRR6204367 SRR6204368 SRR6204369 SRR6204370 SRR6204371 SRR6204372 SRR6204373 SRR6204374 SRR6204375 SRR6204376 SRR6204377 SRR6204378 SRR6204379 SRR6204380 SRR6204381 SRR6204382 SRR6204383 SRR6204384 SRR6204385 SRR6204386 SRR6204387 SRR6204388 SRR6204389 SRR6204390 SRR6204391 SRR6204392 SRR6204393 SRR6204394\n",
      "(snippy) "
     ]
    },
    {
     "ename": "",
     "evalue": "1",
     "output_type": "error",
     "traceback": []
    }
   ],
   "source": [
    "tail -n1 runme.sh"
   ]
  },
  {
   "cell_type": "markdown",
   "id": "5a4a4253-4d50-4cd4-b35e-1b14dd6af894",
   "metadata": {},
   "source": [
    "#### 3. Submit Snippy job"
   ]
  },
  {
   "cell_type": "code",
   "execution_count": null,
   "id": "aed0bf74-36a4-4750-bda7-3f24e1bd8efd",
   "metadata": {},
   "outputs": [],
   "source": [
    "touch snippy.sbat"
   ]
  },
  {
   "cell_type": "markdown",
   "id": "67f00e5c-47b3-4818-a82e-fbdd5bb31aa6",
   "metadata": {},
   "source": [
    "Copy and paste these lines to snippy.sbat file using nano:\n",
    "\n",
    "```\n",
    "#!/bin/sh\n",
    "# Job name\n",
    "#SBATCH --job-name=Snippy\n",
    "# User info\n",
    "#SBATCH --mail-user=username@umich.edu\n",
    "#SBATCH --mail-type=BEGIN,END,FAIL,REQUEUE\n",
    "#SBATCH --export=ALL\n",
    "#SBATCH --partition=standard\n",
    "#SBATCH --account=epid582w22_class\n",
    "# Number of cores, amount of memory, and walltime\n",
    "#SBATCH --nodes=1 --ntasks=1 --cpus-per-task=4 --mem=20g --time=24:00:00\n",
    "#  Change to the directory you submitted from\n",
    "cd $SLURM_SUBMIT_DIR\n",
    "echo $SLURM_SUBMIT_DIR\n",
    "\n",
    "bash runme.sh\n",
    "```"
   ]
  },
  {
   "cell_type": "markdown",
   "id": "55d46bc4-f8f6-4ce1-9b24-b892e9d3cd0d",
   "metadata": {},
   "source": [
    "Submit the job using sbatch"
   ]
  },
  {
   "cell_type": "code",
   "execution_count": null,
   "id": "a9f7ee12-bf25-49ce-bb04-413c705cb561",
   "metadata": {},
   "outputs": [],
   "source": [
    "sbatch snippy.sbat"
   ]
  },
  {
   "cell_type": "markdown",
   "id": "eb4b45d2-8dff-41d1-9bd9-a68c63509677",
   "metadata": {},
   "source": [
    "Snippy will generate variant calling results for each of the samples along with other useful reports that we can analyze further based on our needs. \n",
    "\n",
    "Extension | Description\n",
    "----------|--------------\n",
    ".aln | A core SNP alignment in the `--aformat` format (default FASTA)\n",
    ".full.aln | A whole genome SNP alignment (includes invariant sites)\n",
    ".tab | Tab-separated columnar list of **core** SNP sites with alleles but NO annotations\n",
    ".vcf | Multi-sample VCF file with genotype `GT` tags for all discovered alleles\n",
    ".txt | Tab-separated columnar list of alignment/core-size statistics\n",
    ".ref.fa | FASTA version/copy of the `--ref`\n",
    ".self_mask.bed | BED file generated if `--mask auto` is used."
   ]
  },
  {
   "cell_type": "code",
   "execution_count": 5,
   "id": "a60a13df-23e9-4dfb-a35d-034a6901c839",
   "metadata": {},
   "outputs": [
    {
     "name": "stdout",
     "output_type": "stream",
     "text": [
      "ID\tLENGTH\tALIGNED\tUNALIGNED\tVARIANT\tHET\tMASKED\tLOWCOV\n",
      "SRR6204326\t5766615\t5461922\t286542\t208\t2437\t0\t15714\n",
      "SRR6204327\t5766615\t5419126\t292048\t189\t11792\t0\t43649\n",
      "SRR6204328\t5766615\t5312074\t292778\t168\t7127\t0\t154636\n",
      "SRR6204329\t5766615\t5460187\t286745\t176\t3617\t0\t16066\n",
      "SRR6204330\t5766615\t5463038\t284579\t173\t2810\t0\t16188\n",
      "SRR6204331\t5766615\t5443487\t287518\t174\t9411\t0\t26199\n",
      "SRR6204332\t5766615\t5450687\t286854\t176\t4767\t0\t24307\n",
      "SRR6204333\t5766615\t5445189\t286778\t175\t8740\t0\t25908\n",
      "SRR6204334\t5766615\t5397586\t354903\t164\t1474\t0\t12652\n",
      "SRR6204335\t5766615\t5453872\t287043\t170\t1345\t0\t24355\n",
      "SRR6204336\t5766615\t5441449\t287387\t170\t10522\t0\t27257\n",
      "SRR6204337\t5766615\t5427392\t289800\t168\t1085\t0\t48338\n",
      "SRR6204338\t5766615\t5363777\t298058\t165\t1925\t0\t102855\n",
      "SRR6204339\t5766615\t5406545\t348332\t163\t319\t0\t11419\n",
      "SRR6204340\t5766615\t5173207\t311606\t149\t3873\t0\t277929\n",
      "SRR6204341\t5766615\t5453867\t286001\t146\t493\t0\t26254\n",
      "SRR6204342\t5766615\t4299601\t417158\t107\t6966\t0\t1042890\n",
      "SRR6204343\t5766615\t5045617\t346284\t107\t4465\t0\t370249\n",
      "SRR6204344\t5766615\t5320915\t293748\t123\t2749\t0\t149203\n",
      "SRR6204345\t5766615\t5336481\t290839\t106\t5305\t0\t133990\n",
      "SRR6204346\t5766615\t5278551\t361758\t106\t4986\t0\t121320\n",
      "SRR6204347\t5766615\t5470145\t283167\t105\t525\t0\t12778\n",
      "SRR6204348\t5766615\t5126101\t311765\t111\t6004\t0\t322745\n",
      "SRR6204349\t5766615\t5532977\t214020\t106\t1391\t0\t18227\n",
      "SRR6204350\t5766615\t5512415\t236164\t111\t765\t0\t17271\n",
      "SRR6204351\t5766615\t5445073\t290416\t109\t8945\t0\t22181\n",
      "SRR6204352\t5766615\t5438811\t289109\t112\t1528\t0\t37167\n",
      "SRR6204353\t5766615\t5381170\t354067\t103\t8029\t0\t23349\n",
      "SRR6204354\t5766615\t5429677\t288915\t104\t1264\t0\t46759\n",
      "SRR6204355\t5766615\t5477109\t282526\t105\t209\t0\t6771\n",
      "SRR6204356\t5766615\t5454836\t284897\t102\t5660\t0\t21222\n",
      "SRR6204357\t5766615\t5497803\t216261\t104\t10533\t0\t42018\n",
      "SRR6204358\t5766615\t5472748\t283616\t113\t651\t0\t9600\n",
      "SRR6204359\t5766615\t5481779\t215843\t103\t11387\t0\t57606\n",
      "SRR6204360\t5766615\t5333099\t288325\t105\t13617\t0\t131574\n",
      "SRR6204361\t5766615\t5447776\t286700\t106\t9458\t0\t22681\n",
      "SRR6204362\t5766615\t5359327\t289566\t104\t8030\t0\t109692\n",
      "SRR6204363\t5766615\t5448393\t285383\t103\t2908\t0\t29931\n",
      "SRR6204364\t5766615\t5379174\t358504\t107\t3128\t0\t25809\n",
      "SRR6204365\t5766615\t5461325\t287488\t107\t2392\t0\t15410\n",
      "SRR6204366\t5766615\t5016133\t383095\t101\t5237\t0\t362150\n",
      "SRR6204367\t5766615\t5439389\t294145\t107\t5804\t0\t27277\n",
      "SRR6204368\t5766615\t5452874\t292728\t106\t2753\t0\t18260\n",
      "SRR6204369\t5766615\t5419134\t290690\t105\t3516\t0\t53275\n",
      "SRR6204370\t5766615\t5526035\t215047\t106\t1518\t0\t24015\n",
      "SRR6204371\t5766615\t5417030\t287520\t104\t12645\t0\t49420\n",
      "SRR6204372\t5766615\t5461801\t282974\t105\t3541\t0\t18299\n",
      "SRR6204373\t5766615\t5413315\t295815\t105\t11250\t0\t46235\n",
      "SRR6204374\t5766615\t5527754\t216075\t110\t5966\t0\t16820\n",
      "SRR6204375\t5766615\t5463233\t286511\t103\t2063\t0\t14808\n",
      "SRR6204376\t5766615\t5463638\t284445\t105\t1927\t0\t16605\n",
      "SRR6204377\t5766615\t5388552\t288994\t105\t2809\t0\t86260\n",
      "SRR6204378\t5766615\t5429388\t286549\t104\t10981\t0\t39697\n",
      "SRR6204379\t5766615\t5457091\t284481\t102\t4485\t0\t20558\n",
      "SRR6204380\t5766615\t5489400\t245365\t102\t7074\t0\t24776\n",
      "SRR6204381\t5766615\t5479713\t239087\t106\t8840\t0\t38975\n",
      "SRR6204382\t5766615\t4401273\t340000\t98\t5959\t0\t1019383\n",
      "SRR6204383\t5766615\t5473048\t283083\t97\t261\t0\t10223\n",
      "SRR6204384\t5766615\t5340447\t354255\t98\t12857\t0\t59056\n",
      "SRR6204385\t5766615\t4938328\t368528\t93\t5793\t0\t453966\n",
      "SRR6204386\t5766615\t5393399\t356915\t97\t2242\t0\t14059\n",
      "SRR6204387\t5766615\t5454551\t285610\t99\t698\t0\t25756\n",
      "SRR6204388\t5766615\t5471878\t283802\t95\t244\t0\t10691\n",
      "SRR6204389\t5766615\t5000693\t369499\t92\t5376\t0\t391047\n",
      "SRR6204390\t5766615\t5144234\t308976\t93\t4403\t0\t309002\n",
      "SRR6204391\t5766615\t5381052\t296161\t92\t1571\t0\t87831\n",
      "SRR6204392\t5766615\t5462182\t285814\t96\t1158\t0\t17461\n",
      "SRR6204393\t5766615\t4895569\t324553\t94\t5848\t0\t540645\n",
      "SRR6204394\t5766615\t4767671\t325110\t90\t6036\t0\t667798\n",
      "Reference\t5766615\t5766615\t0\t0\t0\t0\t0\n"
     ]
    }
   ],
   "source": [
    "cat core.txt"
   ]
  },
  {
   "cell_type": "markdown",
   "id": "d4a0e2b2-17c6-4dab-b966-8eaee76fbf7d",
   "metadata": {},
   "source": [
    "#### 4. Run Gubbins on core.full.aln"
   ]
  },
  {
   "cell_type": "markdown",
   "id": "5d01795b-d13d-48ea-abd9-c790d9c01d29",
   "metadata": {},
   "source": [
    "We will run gubbins now to mask the recombinant regions and generate a tree from the masked alignment."
   ]
  },
  {
   "cell_type": "code",
   "execution_count": null,
   "id": "22fa9782-870f-41bf-8007-69e01da298ce",
   "metadata": {},
   "outputs": [],
   "source": [
    "touch gubbins.sbat"
   ]
  },
  {
   "cell_type": "markdown",
   "id": "b9ba12a2-35c1-47e7-bbfa-cd1159f00453",
   "metadata": {},
   "source": [
    "Copy and paste these lines to gubbins.sbat file using nano:\n",
    "\n",
    "```\n",
    "#!/bin/sh\n",
    "# Job name\n",
    "#SBATCH --job-name=Gubbins\n",
    "# User info\n",
    "#SBATCH --mail-user=username@umich.edu\n",
    "#SBATCH --mail-type=BEGIN,END,FAIL,REQUEUE\n",
    "#SBATCH --export=ALL\n",
    "#SBATCH --partition=standard\n",
    "#SBATCH --account=epid582w22_class\n",
    "# Number of cores, amount of memory, and walltime\n",
    "#SBATCH --nodes=1 --ntasks=1 --cpus-per-task=8 --mem=40g --time=24:00:00\n",
    "#  Change to the directory you submitted from\n",
    "cd $SLURM_SUBMIT_DIR\n",
    "echo $SLURM_SUBMIT_DIR\n",
    "\n",
    "run_gubbins.py --prefix crkp_core_full_aln --verbose core.full.aln\n",
    "```"
   ]
  },
  {
   "cell_type": "code",
   "execution_count": null,
   "id": "68a91584-6dd5-4bb0-863c-26b2be3a3acb",
   "metadata": {},
   "outputs": [],
   "source": [
    "sbatch gubbins.sbat"
   ]
  },
  {
   "cell_type": "markdown",
   "id": "a27afdd4-2e10-4098-b66c-d3fb5fcfbe3c",
   "metadata": {},
   "source": [
    "Gubbins will create various output files with the prefix `crkp_core_full_aln```. We will move these files to a new folder gubbins_results."
   ]
  },
  {
   "cell_type": "code",
   "execution_count": null,
   "id": "9eb7c4a5-b167-4dd3-a0bd-44b92dffab00",
   "metadata": {},
   "outputs": [],
   "source": [
    "mkdir gubbins_results"
   ]
  },
  {
   "cell_type": "code",
   "execution_count": null,
   "id": "c23c57d0-398f-43ad-90cd-62c1b929ba28",
   "metadata": {},
   "outputs": [],
   "source": [
    "mv crkp_core_full_aln.* gubbins_results/"
   ]
  }
 ],
 "metadata": {
  "kernelspec": {
   "display_name": "Bash",
   "language": "bash",
   "name": "bash"
  },
  "language_info": {
   "codemirror_mode": "shell",
   "file_extension": ".sh",
   "mimetype": "text/x-sh",
   "name": "bash"
  }
 },
 "nbformat": 4,
 "nbformat_minor": 5
}
