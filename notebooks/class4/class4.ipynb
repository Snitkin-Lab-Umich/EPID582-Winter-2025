{
 "cells": [
  {
   "cell_type": "markdown",
   "id": "ec4947f2",
   "metadata": {},
   "source": [
    "Class 4 – Illumina sequencing data and QC\n",
    "=========================================\n",
    "\n",
    "Goal\n",
    "----\n",
    "\n",
    "- We will perform quality control on raw illumina fastq reads to detect contamination and assess the quality of reads using Kraken and FastQC.\n",
    "- Clean reads by removing low quality reads and adapters using Trimmomatic.\n",
    "\n",
    "Overview of Genomics Pipeline\n",
    "-----------------------------\n",
    "Now that we're getting into genomic analysis, let's come back to the overview of the analysis workflow. The first step leading to all downstream analyses is data quality control (QC), which is what we will cover today.\n",
    "\n",
    "![Mile high view of a genomics pipeline](genomics_pipeline.png)\n",
    "\n",
    "![QC-ing](genomics_pipeline_qc.png)"
   ]
  },
  {
   "cell_type": "markdown",
   "id": "d8ae2d8b",
   "metadata": {},
   "source": [
    "Contamination Screening using [Kraken](https://ccb.jhu.edu/software/kraken/)\n",
    "--------------------------------------------\n",
    "One important QC to perform when getting your sequencing data is to make sure you sequenced what you think you did. For this purpose, we will employ Kraken which is a taxonomic sequence classifier that assigns taxonomic labels to short DNA reads. We will screen our samples against a MiniKraken database (a pre-built database constructed from complete bacterial, archaeal, and viral genomes in NCBI RefSeq database) and confirm if the majority of reads in our sample belong to the target species.\n",
    "\n",
    "We will now activate the conda environment that we set up in our last class. Since activating conda environment requires running a conda command and conda is a bash command, we will change the Jupyter notebook Kernel to Bash so that it knows that we are tring to run a Bash command.\n",
    "\n",
    "- To change Kernel; Select Kernel at the top -> Change kernel -> Bash"
   ]
  },
  {
   "cell_type": "code",
   "execution_count": null,
   "id": "37fc34b9",
   "metadata": {},
   "outputs": [],
   "source": [
    "conda activate MICRO582_class4_QC"
   ]
  },
  {
   "cell_type": "code",
   "execution_count": null,
   "id": "18148583",
   "metadata": {},
   "outputs": [],
   "source": [
    "#Lets check if we can call kraken help menu from the command line.\n",
    "kraken -h"
   ]
  },
  {
   "cell_type": "markdown",
   "id": "ec59508c",
   "metadata": {},
   "source": [
    "If you see the help menu, then we are all set to move forward.\n",
    "\n",
    "> ***i. Copy class4 directory to your home directory***"
   ]
  },
  {
   "cell_type": "code",
   "execution_count": null,
   "id": "fe4b379d",
   "metadata": {},
   "outputs": [],
   "source": [
    "#Go to your class working directory\n",
    "wd"
   ]
  },
  {
   "cell_type": "code",
   "execution_count": null,
   "id": "74d15b4d",
   "metadata": {},
   "outputs": [],
   "source": [
    "#Copy over today's materials\n",
    "cp -r /scratch/esnitkin_root/esnitkin/apirani/epid582w22_class/data/class4/ ./"
   ]
  },
  {
   "cell_type": "code",
   "execution_count": null,
   "id": "86ff3da6",
   "metadata": {},
   "outputs": [],
   "source": [
    "#Go into the directory\n",
    "cd class4/"
   ]
  },
  {
   "cell_type": "markdown",
   "id": "57ccc959",
   "metadata": {},
   "source": [
    "> **ii. Lets run kraken on Rush_KPC_266_1_combine.fastq.gz file before we assess it quality***\n",
    "\n",
    "Since Kraken takes time to run, we have already placed the output of Kraken command in class4 directory."
   ]
  },
  {
   "cell_type": "code",
   "execution_count": null,
   "id": "39f6ddd1",
   "metadata": {},
   "outputs": [],
   "source": [
    "kraken --quick --fastq-input --gzip-compressed --unclassified-out Rush_KPC_266_unclassified.txt --db kraken/minikraken_20171013_4GB/ --output Rush_KPC_266_kraken Rush_KPC_266_1_subset.fastq.gz "
   ]
  },
  {
   "cell_type": "markdown",
   "id": "d5abf5e2",
   "metadata": {},
   "source": [
    "It should take around 6 minutes.\n",
    "\n",
    "> **iii. Run Kraken report to generate a concise summary report of the species found in reads file.***"
   ]
  },
  {
   "cell_type": "code",
   "execution_count": null,
   "id": "1d9063f9",
   "metadata": {},
   "outputs": [],
   "source": [
    "kraken-report --db kraken/minikraken_20171013_4GB/ Rush_KPC_266_kraken > Rush_KPC_266_kraken_report.txt"
   ]
  },
  {
   "cell_type": "markdown",
   "id": "7e9b823a",
   "metadata": {},
   "source": [
    "The output of kraken-report is tab-delimited, with one line per taxon. The fields of the output, from left-to-right, are as follows:\n",
    "\n",
    "1. Percentage of reads covered by the clade rooted at this taxon\n",
    "2. Number of reads covered by the clade rooted at this taxon\n",
    "3. Number of reads assigned directly to this taxon\n",
    "4. A rank code, indicating (U)nclassified, (D)omain, (K)ingdom, (P)hylum, (C)lass, (O)rder, (F)amily, (G)enus, or (S)pecies. All other ranks are simply '-'.\n",
    "5. NCBI taxonomy ID\n",
    "6. indented scientific name"
   ]
  },
  {
   "cell_type": "code",
   "execution_count": null,
   "id": "c4ef6a42",
   "metadata": {},
   "outputs": [],
   "source": [
    "head Rush_KPC_266_kraken_report.txt"
   ]
  },
  {
   "cell_type": "markdown",
   "id": "5b619cc2",
   "metadata": {},
   "source": [
    "Lets extract columns by Species (column 4 - \"S\") and check the major species indentified in our sample."
   ]
  },
  {
   "cell_type": "code",
   "execution_count": null,
   "id": "f3fea923",
   "metadata": {},
   "outputs": [],
   "source": [
    "awk '$4 == \"S\" {print $0}' Rush_KPC_266_kraken_report.txt | head"
   ]
  },
  {
   "cell_type": "markdown",
   "id": "994b965d",
   "metadata": {},
   "source": [
    "Lets visualize the same information in an interactive form."
   ]
  },
  {
   "cell_type": "markdown",
   "id": "00bf7c64",
   "metadata": {},
   "source": [
    "> v. Generate a HTML report to visualize Kraken report using Krona"
   ]
  },
  {
   "cell_type": "code",
   "execution_count": null,
   "id": "3495f228",
   "metadata": {},
   "outputs": [],
   "source": [
    "# Extract Second and third column from the Kraken results and use it as Krona input. \n",
    "cut -f2,3 Rush_KPC_266_kraken > Rush_KPC_266_krona.input\n",
    "\n",
    "ktImportTaxonomy Rush_KPC_266_krona.input -o Rush_KPC_266_krona.out.html"
   ]
  },
  {
   "cell_type": "markdown",
   "id": "a1eb8fdb",
   "metadata": {},
   "source": [
    "In case you get an error saying - Taxonomy not found, uncomment the below line and run updateTaxonomy.sh command."
   ]
  },
  {
   "cell_type": "code",
   "execution_count": null,
   "id": "b1540b3c",
   "metadata": {},
   "outputs": [],
   "source": [
    "#ktUpdateTaxonomy.sh"
   ]
  },
  {
   "cell_type": "markdown",
   "id": "4352976e",
   "metadata": {},
   "source": [
    "Lets copy over the Kraken/krona html report to your local system."
   ]
  },
  {
   "cell_type": "markdown",
   "id": "d5be0266",
   "metadata": {},
   "source": [
    "Quality Control using FastQC\n",
    "----------------------------\n",
    "OK, you've performed a sequencing experiment and are eager to dig into your data and see what it reveals. However, before you get to analyzing, you first need to make sure that the data are of good enough quality to warrent further analysis, and to ensure that you don't get led astray by messy data. \n",
    "\n",
    "We will be performing QC analysis on Illumina sequencing data (see [here](https://youtu.be/fCd6B5HRaZ8)). The tool that we will be using to examine the quality of our sequencing data is FastQC. FastQC is a quality control tool that reads in sequence data in a variety of formats(fastq, bam, sam) and can either provide an interactive application to review the results or create an HTML based report which can be integrated into any pipeline. Running FastQC can give you quick sense of the data quality and whether it exhibits any unusual properties (e.g. contamination or unexpected biological features), and can point you towards next steps in terms of ways to cleanup your data.\n",
    "\n",
    "> ***i. Go to class4 directory and create a new directory for saving FastQC results.***"
   ]
  },
  {
   "cell_type": "code",
   "execution_count": null,
   "id": "224d3625-afc3-457a-ba5d-56e55cc4e73f",
   "metadata": {},
   "outputs": [],
   "source": [
    "#Go back to your class4 working directory\n",
    "wd"
   ]
  },
  {
   "cell_type": "code",
   "execution_count": null,
   "id": "1084773a-2e78-4f3e-9ab5-50c4cf1f8fac",
   "metadata": {},
   "outputs": [],
   "source": [
    "cd class4/"
   ]
  },
  {
   "cell_type": "code",
   "execution_count": null,
   "id": "d0f16599-31df-42ce-97af-669c6fce631d",
   "metadata": {},
   "outputs": [],
   "source": [
    "#Create directory for FastQC results\n",
    "mkdir Rush_KPC_266_FastQC_results"
   ]
  },
  {
   "cell_type": "code",
   "execution_count": null,
   "id": "4826165c-f8a0-427a-b009-d7eca926b6c8",
   "metadata": {},
   "outputs": [],
   "source": [
    "#Create directory for trimmomatic results\n",
    "mkdir Rush_KPC_266_FastQC_results/before_trimmomatic"
   ]
  },
  {
   "cell_type": "markdown",
   "id": "0b2c3dcb-8a5e-46bd-95e4-3ed2437010e8",
   "metadata": {},
   "source": [
    "> ***ii. Verify that FastQC is in your path by invoking it from command line.***"
   ]
  },
  {
   "cell_type": "code",
   "execution_count": null,
   "id": "edc7b846-fd2d-45d9-8fed-616ac84e5d0d",
   "metadata": {},
   "outputs": [],
   "source": [
    "#Verify that you can run fastqc\n",
    "fastqc -h"
   ]
  },
  {
   "cell_type": "markdown",
   "id": "33209a32-5139-4d29-bb83-0a31c80ba297",
   "metadata": {},
   "source": [
    "FastQC can be run in two modes: \"command line\" or as a GUI (graphical user interface). We will be using command line version of it.\n",
    "\n",
    "> ***iii. Run FastQC to generate quality report of sequence reads.***"
   ]
  },
  {
   "cell_type": "code",
   "execution_count": null,
   "id": "717ab330-ceed-4f75-a943-2adb38f35010",
   "metadata": {},
   "outputs": [],
   "source": [
    "fastqc -o Rush_KPC_266_FastQC_results/before_trimmomatic/ Rush_KPC_266_1_combine.fastq.gz Rush_KPC_266_2_combine.fastq.gz --extract"
   ]
  },
  {
   "cell_type": "markdown",
   "id": "17c39b0a-3da2-43d5-ba92-eecc95d127f3",
   "metadata": {},
   "source": [
    "This will generate two results directory, Rush_KPC_266_1_combine_fastqc and Rush_KPC_266_2_combine_fastqc in output folder Rush_KPC_266_FastQC_results/before_trimmomatic/ provided with -o flag. \n",
    "\n",
    "The summary.txt file in these directories indicates if the data passed different quality control tests in text format.\n",
    "\n",
    "You can visualize and assess the quality of data by opening html report in a local browser.\n",
    "\n",
    "> ***iv. Download the FastQC html report to your home computer using Globus/scp/Cyberduck***\n",
    "\n",
    "Note: Run the below command in your local computer terminal.\n",
    "\n",
    "```\n",
    "scp username@greatlakes-xfer.arc-ts.umich.edu:/scratch/epid582w22_class_root/epid582w22_class/username/class4/Rush_KPC_266_FastQC_results/before_trimmomatic/*.html /path-to-local-directory/\n",
    "\n",
    "```\n",
    "\n",
    "The analysis in FastQC is broken down into a series of analysis modules. The left hand side of the main interactive display or the top of the HTML report show a summary of the modules which were run, and a quick evaluation of whether the results of the module seem entirely normal (green tick), slightly abnormal (orange triangle) or very unusual (red cross). \n",
    "\n",
    "![alt tag](1.png)\n",
    "\n",
    "Lets first look at the quality drop(per base sequence quality graph) at the end of \"Per Base Sequence Quality\" graph. This degredation of quality towards the end of reads is commonly observed in illumina samples. The reason for this drop is that as the number of sequencing cycles performed increases, the average quality of the base calls, as reported by the Phred Scores produced by the sequencer falls. \n",
    "\n",
    "Next, lets check the overrepresented sequences graph and the kind of adapters that were used for sequencing these samples (Truseq or Nextera) which comes in handy while indicating the adapter database path during downstream filtering step (Trimmomatic).\n",
    "\n",
    "![alt tag](2.png)\n",
    "\n",
    "- Check out [this](https://sequencing.qcfail.com/articles/loss-of-base-call-accuracy-with-increasing-sequencing-cycles/) for more detailed explaination as to why quality drops with increasing sequencing cycles.\n",
    "\n",
    "- [A video FastQC walkthrough created by FastQC developers](https://www.youtube.com/watch?v=bz93ReOv87Y \"FastQC video\") \n",
    "\n",
    "Quality Trimming using [Trimmomatic](http://www.usadellab.org/cms/?page=trimmomatic \"Trimmomatic Homepage\")\n",
    "------------------------------------\n",
    "\n",
    "Filtering out problematic sequences within a dataset is inherently a trade off between sensitivity (ensuring all contaminant sequences are removed) and specificity (leaving all non-contaminant sequence data intact). Adapter and other technical contaminants can potentially occur in any location within the reads.(start, end, read-through (between the reads), partial adapter sequences)\n",
    "\n",
    "Trimmomatic is a tool that tries to search these potential contaminant/adapter sequence within the read at all the possible locations. It takes advantage of the added evidence available in paired-end dataset. In paired-end data, read-through/adapters can occur on both the forward and reverse reads of a particular fragment in the same position. Since the fragment was entirely sequenced from both ends, the non-adapter portion of the forward and reverse reads will be reverse-complements of each other. This strategy of searching for contaminant in both the reads is called 'palindrome' mode. \n",
    "\n",
    "For more information on how Trimmomatic tries to achieve this, Please refer [this](http://www.usadellab.org/cms/uploads/supplementary/Trimmomatic/TrimmomaticManual_V0.32.pdf) manual.\n",
    "\n",
    "Now we will run Trimmomatic on these raw data to remove low quality reads as well as adapters. \n",
    "\n",
    "> ***i. Load the Conda environment - MICRO582_class4_QC and change directory to class4***\n",
    "\n"
   ]
  },
  {
   "cell_type": "code",
   "execution_count": null,
   "id": "898cbd2b-efcd-405a-b436-57ef6ddd39f6",
   "metadata": {},
   "outputs": [],
   "source": [
    "wd"
   ]
  },
  {
   "cell_type": "code",
   "execution_count": null,
   "id": "93f08950-d936-4724-b96d-499e3a305d0c",
   "metadata": {},
   "outputs": [],
   "source": [
    "cd class4"
   ]
  },
  {
   "cell_type": "markdown",
   "id": "3ecf5efc-5735-47a7-9244-52d2a178ea3c",
   "metadata": {},
   "source": [
    "> ***ii. Create these output directories in your day1pm folder to save trimmomatic results***"
   ]
  },
  {
   "cell_type": "code",
   "execution_count": null,
   "id": "05ec2c9e-c7c9-43e4-9d8e-e0e46223139e",
   "metadata": {},
   "outputs": [],
   "source": [
    "mkdir Rush_KPC_266_trimmomatic_results"
   ]
  },
  {
   "cell_type": "markdown",
   "id": "8a186196-40a4-4219-992e-31c24594b7d0",
   "metadata": {},
   "source": [
    "> ***iii. Try to invoke trimmomatic from command line.***"
   ]
  },
  {
   "cell_type": "code",
   "execution_count": null,
   "id": "f417d32b-0f42-4c1a-a49d-de51b6775c6e",
   "metadata": {},
   "outputs": [],
   "source": [
    "trimmomatic –h"
   ]
  },
  {
   "cell_type": "markdown",
   "id": "37f8ddb9-7258-4991-bddb-2bc1ca26da63",
   "metadata": {},
   "source": [
    "> ***iv. Run the below trimmomatic commands on raw reads.***"
   ]
  },
  {
   "cell_type": "code",
   "execution_count": null,
   "id": "80242906-0aa8-4cd3-8de0-381a9f9970f5",
   "metadata": {},
   "outputs": [],
   "source": [
    "trimmomatic PE Rush_KPC_266_1_combine.fastq.gz Rush_KPC_266_2_combine.fastq.gz Rush_KPC_266_trimmomatic_results/forward_paired.fq.gz Rush_KPC_266_trimmomatic_results/forward_unpaired.fq.gz Rush_KPC_266_trimmomatic_results/reverse_paired.fq.gz Rush_KPC_266_trimmomatic_results/reverse_unpaired.fq.gz ILLUMINACLIP:/scratch/esnitkin_root/esnitkin/apirani/epid582w22_class/database/trimmomatic-0.39-1/adapters/TruSeq3-PE.fa:2:30:10:8:true SLIDINGWINDOW:4:15 MINLEN:40 HEADCROP:0"
   ]
  },
  {
   "cell_type": "markdown",
   "id": "8d4cf336-8b1e-412a-88b8-f175e707da09",
   "metadata": {},
   "source": [
    "![alt tag](trimm_parameters.png)\n",
    "\n",
    "First, Trimmomatic searches for any matches between the reads and adapter sequences. Adapter sequences are stored in this directory of Trimmomatic tool: /scratch/epid582w22_class_root/epid582w22_class/shared_data/database/trimmomatic-0.39-1/adapters/. Trimmomatic comes with a list of standard adapter fasta sequences such TruSeq, Nextera etc. You should use appropriate adapter fasta sequence file based on the illumina kit that was used for sequencing. You can get this information from your sequencing centre or can find it in FastQC html report (Section: Overrepresented sequences).\n",
    "\n",
    "Short sections (2 bp as determined by seed misMatch parameter) of each adapter sequences (contained in TruSeq3-PE.fa) are tested in each possible position within the reads. If it finds a perfect match, It starts searching the entire adapter sequence and scores the alignment. The advantage here is that the full alignment is calculated only when there is a perfect seed match which results in considerable efficiency gains. So, When it finds a match, it moves forward with full alignment and when the match reaches 10 bp determined by simpleClipThreshold, it finally trims off the adapter from reads.  \n",
    "\n",
    "Quoting Trimmomatic:\n",
    "\n",
    "\"'Palindrome' trimming is specifically designed for the case of 'reading through' a short fragment into the adapter sequence on the other end. In this approach, the appropriate adapter sequences are 'in silico ligated' onto the start of the reads, and the combined adapter+read sequences, forward and reverse are aligned. If they align in a manner which indicates 'read- through' i.e atleast 30 bp match, the forward read is clipped and the reverse read dropped (since it contains no new data).\"\n",
    "\n",
    "> ***v. Now create new directories in class4 folder and Run FastQC on these trimmomatic results.***"
   ]
  },
  {
   "cell_type": "code",
   "execution_count": null,
   "id": "3b9be02f-78a8-44d2-9208-5bd3c12f7248",
   "metadata": {},
   "outputs": [],
   "source": [
    "mkdir Rush_KPC_266_FastQC_results/after_trimmomatic"
   ]
  },
  {
   "cell_type": "code",
   "execution_count": null,
   "id": "0ed7f4e8-00ed-4c25-8c42-ac191c8b3ddb",
   "metadata": {},
   "outputs": [],
   "source": [
    "fastqc -o Rush_KPC_266_FastQC_results/after_trimmomatic/ Rush_KPC_266_trimmomatic_results/forward_paired.fq.gz Rush_KPC_266_trimmomatic_results/reverse_paired.fq.gz --extract"
   ]
  },
  {
   "cell_type": "markdown",
   "id": "fe9f03d7-3da9-4824-87c9-0f6ff8a9a934",
   "metadata": {},
   "source": [
    "Get these html reports to your local system.\n",
    "\n",
    "```\n",
    "\n",
    "scp username@greatlakes-xfer.arc-ts.umich.edu:/scratch/epid582w22_class_root/epid582w22_class/username/class4/Rush_KPC_266_FastQC_results/after_trimmomatic/*.html /path-to-local-directory/\n",
    "\n",
    "```\n",
    "\n",
    "![alt tag](3.png)\n",
    "\n",
    "After running Trimmomatic, you should notice that the sequence quality improved (Per base sequence quality) and now it doesn't contain any contaminants/adapters (Overrepresented sequences).\n",
    "\n",
    "Next, take a look at the per base sequence content graph, and notice that the head bases(~9 bp) are slightly imbalanced. In a perfect scenario, each nucleotide content should run parallel to each other, and should be reflective of the overall A/C/T/G content of your input sequence. \n",
    "\n",
    "Quoting FastQC:\n",
    "\n",
    "\"It's worth noting that some types of library will always produce biased sequence composition, normally at the start of the read. Libraries produced by priming using random hexamers (including nearly all RNA-Seq libraries) and those which were fragmented using transposases inherit an intrinsic bias in the positions at which reads start. This bias does not concern an absolute sequence, but instead provides enrichment of a number of different K-mers at the 5' end of the reads. Whilst this is a true technical bias, it isn't something which can be corrected by trimming and in most cases doesn't seem to adversely affect the downstream analysis. It will however produce a warning or error in this module.\"\n",
    "\n",
    "This doesn't look very bad but you can remove the red cross sign by trimming these imbalanced head bases using HEADCROP:9 flag in the above command. This removes the first 9 bases from the start of the read. Often, the start of the read is not good quality, which is why this improves the overall read quality.\n",
    "\n",
    "> ***vi. Lets Run trimmomatic again with headcrop 9 and save it in a different directory called Rush_KPC_266_trimmomatic_results_with_headcrop/***"
   ]
  },
  {
   "cell_type": "code",
   "execution_count": null,
   "id": "72eda97e-0c3d-4e9a-b275-8e339c252dc9",
   "metadata": {},
   "outputs": [],
   "source": [
    "mkdir Rush_KPC_266_trimmomatic_results_with_headcrop/"
   ]
  },
  {
   "cell_type": "code",
   "execution_count": null,
   "id": "3852cb5e-40cf-4442-be3d-0a6f71c66ec6",
   "metadata": {},
   "outputs": [],
   "source": [
    "time trimmomatic PE Rush_KPC_266_1_combine.fastq.gz Rush_KPC_266_2_combine.fastq.gz Rush_KPC_266_trimmomatic_results_with_headcrop/forward_paired.fq.gz Rush_KPC_266_trimmomatic_results_with_headcrop/forward_unpaired.fq.gz Rush_KPC_266_trimmomatic_results_with_headcrop/reverse_paired.fq.gz Rush_KPC_266_trimmomatic_results_with_headcrop/reverse_unpaired.fq.gz ILLUMINACLIP:/scratch/esnitkin_root/esnitkin/apirani/epid582w22_class/database/trimmomatic-0.39-1/adapters/TruSeq3-PE.fa:2:30:10:8:true SLIDINGWINDOW:4:20 MINLEN:40 HEADCROP:9"
   ]
  },
  {
   "cell_type": "markdown",
   "id": "6dc6caf9-3eb1-4e51-9a60-0df4fa421630",
   "metadata": {},
   "source": [
    "Unix gem: time in above command shows how long a command takes to run?\n",
    "\n",
    "> ***vii. Run FastQC 'one last time' on updated trimmomatic results with headcrop and check report on your local computer***"
   ]
  },
  {
   "cell_type": "code",
   "execution_count": null,
   "id": "a734ff6a-a6bf-401a-b94b-7967e30cd8bf",
   "metadata": {},
   "outputs": [],
   "source": [
    "mkdir Rush_KPC_266_FastQC_results/after_trimmomatic_headcrop/"
   ]
  },
  {
   "cell_type": "code",
   "execution_count": null,
   "id": "0b2a192d-b259-478c-b419-08a0b847ea6e",
   "metadata": {},
   "outputs": [],
   "source": [
    "fastqc -o Rush_KPC_266_FastQC_results/after_trimmomatic_headcrop/ --extract -f fastq Rush_KPC_266_trimmomatic_results_with_headcrop/forward_paired.fq.gz Rush_KPC_266_trimmomatic_results_with_headcrop/reverse_paired.fq.gz"
   ]
  },
  {
   "cell_type": "markdown",
   "id": "087a8af7-e4bb-4b48-8002-d2af37bc3da3",
   "metadata": {},
   "source": [
    "Download the reports again and see the difference.\n",
    "\n",
    "```\n",
    "\n",
    "scp username@greatlakes-xfer.arc-ts.umich.edu:/scratch/epid582w22_class_root/epid582w22_class/username/class4/Rush_KPC_266_FastQC_results/after_trimmomatic_headcrop/*.html /path-to-local-directory/\n",
    "\n",
    "```\n",
    "\n",
    "The red cross sign disappeared!\n",
    "\n",
    "Lets have a look at one of the Bad Illumina data example [here](http://www.bioinformatics.babraham.ac.uk/projects/fastqc/bad_sequence_fastqc.html)"
   ]
  },
  {
   "cell_type": "code",
   "execution_count": null,
   "id": "553bb860-bbd3-432e-8e7a-d6cd6f280f22",
   "metadata": {},
   "outputs": [],
   "source": []
  }
 ],
 "metadata": {
  "kernelspec": {
   "display_name": "Bash",
   "language": "bash",
   "name": "bash"
  },
  "language_info": {
   "codemirror_mode": "shell",
   "file_extension": ".sh",
   "mimetype": "text/x-sh",
   "name": "bash"
  }
 },
 "nbformat": 4,
 "nbformat_minor": 5
}
